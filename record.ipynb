{
 "cells": [
  {
   "cell_type": "code",
   "execution_count": 1,
   "metadata": {},
   "outputs": [
    {
     "name": "stdout",
     "output_type": "stream",
     "text": [
      "pygame 2.6.1 (SDL 2.28.4, Python 3.8.20)\n",
      "Hello from the pygame community. https://www.pygame.org/contribute.html\n"
     ]
    },
    {
     "name": "stderr",
     "output_type": "stream",
     "text": [
      "/home/enzolouv/miniconda3/envs/mario-env/lib/python3.8/site-packages/gym/envs/registration.py:555: UserWarning: \u001b[33mWARN: The environment SuperMarioBros-1-1-v0 is out of date. You should consider upgrading to version `v3`.\u001b[0m\n",
      "  logger.warn(\n",
      "/home/enzolouv/miniconda3/envs/mario-env/lib/python3.8/site-packages/gym/envs/registration.py:627: UserWarning: \u001b[33mWARN: The environment creator metadata doesn't include `render_modes`, contains: ['render.modes', 'video.frames_per_second']\u001b[0m\n",
      "  logger.warn(\n",
      "/home/enzolouv/miniconda3/envs/mario-env/lib/python3.8/site-packages/gym/utils/passive_env_checker.py:272: UserWarning: \u001b[33mWARN: No render modes was declared in the environment (env.metadata['render_modes'] is None or not defined), you may have trouble when calling `.render()`.\u001b[0m\n",
      "  logger.warn(\n",
      "/home/enzolouv/miniconda3/envs/mario-env/lib/python3.8/site-packages/gym/utils/passive_env_checker.py:233: DeprecationWarning: `np.bool8` is a deprecated alias for `np.bool_`.  (Deprecated NumPy 1.24)\n",
      "  if not isinstance(terminated, (bool, np.bool8)):\n"
     ]
    },
    {
     "name": "stdout",
     "output_type": "stream",
     "text": [
      "Agent: <__main__.right_agent object at 0x797ea1661b80>\n",
      "Step: 100, Position: 191, Time: 395\n",
      "Episode finished after 160 steps with total reward 231.0\n",
      "Video saved to mario_videos_test/right_agent-20250303-110828.mp4\n"
     ]
    }
   ],
   "source": [
    "from record import save_video\n",
    "import gym_super_mario_bros\n",
    "\n",
    "env = gym_super_mario_bros.make('SuperMarioBros-1-1-v0', \n",
    "                            apply_api_compatibility=True,\n",
    "                            render_mode=\"rgb_array\")\n",
    "\n",
    "class right_agent:\n",
    "    def __init__(self):\n",
    "        self.name = \"right_agent\"\n",
    "        self.action = 1\n",
    "    def act(self,state):  \n",
    "        return self.action  \n",
    "\n",
    "save_video(env, right_agent())"
   ]
  }
 ],
 "metadata": {
  "kernelspec": {
   "display_name": "mario-env",
   "language": "python",
   "name": "python3"
  },
  "language_info": {
   "codemirror_mode": {
    "name": "ipython",
    "version": 3
   },
   "file_extension": ".py",
   "mimetype": "text/x-python",
   "name": "python",
   "nbconvert_exporter": "python",
   "pygments_lexer": "ipython3",
   "version": "3.8.20"
  }
 },
 "nbformat": 4,
 "nbformat_minor": 2
}
